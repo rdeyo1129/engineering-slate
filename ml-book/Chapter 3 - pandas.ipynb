{
 "cells": [
  {
   "cell_type": "code",
   "execution_count": 3,
   "metadata": {},
   "outputs": [
    {
     "name": "stdout",
     "output_type": "stream",
     "text": [
      "0    1\n",
      "1    2\n",
      "2    3\n",
      "3    4\n",
      "4    5\n",
      "dtype: int64\n"
     ]
    }
   ],
   "source": [
    "# PANDAS - panel data analysis\n",
    "import pandas as pd\n",
    "\n",
    "series = pd.Series([1,2,3,4,5])\n",
    "print(series)"
   ]
  },
  {
   "cell_type": "code",
   "execution_count": 8,
   "metadata": {},
   "outputs": [
    {
     "name": "stdout",
     "output_type": "stream",
     "text": [
      "a    1\n",
      "b    2\n",
      "c    3\n",
      "d    4\n",
      "a    5\n",
      "dtype: int64\n",
      "5\n",
      "a    1\n",
      "a    5\n",
      "dtype: int64\n"
     ]
    }
   ],
   "source": [
    "# specifying the index\n",
    "series2 = pd.Series([1,2,3,4,5], index=['a','b','c','d','a'])\n",
    "print(series2)\n",
    "print(series2[4])\n",
    "print(series2['a'])"
   ]
  },
  {
   "cell_type": "code",
   "execution_count": 11,
   "metadata": {},
   "outputs": [
    {
     "name": "stdout",
     "output_type": "stream",
     "text": [
      "c    3\n",
      "d    4\n",
      "dtype: int64\n"
     ]
    }
   ],
   "source": [
    "# series slicing\n",
    "print(series2[2:4])"
   ]
  },
  {
   "cell_type": "code",
   "execution_count": 14,
   "metadata": {},
   "outputs": [
    {
     "name": "stdout",
     "output_type": "stream",
     "text": [
      "DatetimeIndex(['2022-07-29', '2022-07-30', '2022-07-31', '2022-08-01',\n",
      "               '2022-08-02', '2022-08-03', '2022-08-04', '2022-08-05',\n",
      "               '2022-08-06', '2022-08-07', '2022-08-08', '2022-08-09',\n",
      "               '2022-08-10'],\n",
      "              dtype='datetime64[ns]', freq='D')\n"
     ]
    }
   ],
   "source": [
    "# timeseries\n",
    "\n",
    "dates1 = pd.date_range('20220729', periods=13)\n",
    "print(dates1)"
   ]
  },
  {
   "cell_type": "code",
   "execution_count": 16,
   "metadata": {},
   "outputs": [
    {
     "name": "stdout",
     "output_type": "stream",
     "text": [
      "2022-07-29     1\n",
      "2022-07-30     2\n",
      "2022-07-31     3\n",
      "2022-08-01     4\n",
      "2022-08-02     5\n",
      "2022-08-03     6\n",
      "2022-08-04     7\n",
      "2022-08-05     8\n",
      "2022-08-06     9\n",
      "2022-08-07    10\n",
      "2022-08-08    11\n",
      "2022-08-09    12\n",
      "2022-08-10    13\n",
      "Freq: D, dtype: int64\n"
     ]
    }
   ],
   "source": [
    "series = pd.Series([1,2,3,4,5,6,7,8,9,10,11,12,13])\n",
    "series.index = dates1\n",
    "print(series)"
   ]
  },
  {
   "cell_type": "code",
   "execution_count": 18,
   "metadata": {},
   "outputs": [
    {
     "name": "stdout",
     "output_type": "stream",
     "text": [
      "DatetimeIndex(['2019-06-01', '2019-07-01', '2019-08-01', '2019-09-01',\n",
      "               '2019-10-01', '2019-11-01', '2019-12-01', '2020-01-01',\n",
      "               '2020-02-01', '2020-03-01', '2020-04-01', '2020-05-01'],\n",
      "              dtype='datetime64[ns]', freq='MS')\n"
     ]
    }
   ],
   "source": [
    "dates2 = pd.date_range('2019-05-02', periods=12, freq='MS')\n",
    "print(dates2)"
   ]
  },
  {
   "cell_type": "code",
   "execution_count": 19,
   "metadata": {},
   "outputs": [
    {
     "name": "stdout",
     "output_type": "stream",
     "text": [
      "DatetimeIndex(['2019-05-17 09:00:00', '2019-05-17 10:00:00',\n",
      "               '2019-05-17 11:00:00', '2019-05-17 12:00:00',\n",
      "               '2019-05-17 13:00:00', '2019-05-17 14:00:00',\n",
      "               '2019-05-17 15:00:00', '2019-05-17 16:00:00'],\n",
      "              dtype='datetime64[ns]', freq='H')\n"
     ]
    }
   ],
   "source": [
    "dates3 = pd.date_range('2019/05/17 09:00:00', periods=8, freq='H')\n",
    "print(dates3)"
   ]
  },
  {
   "cell_type": "code",
   "execution_count": 20,
   "metadata": {},
   "outputs": [
    {
     "name": "stdout",
     "output_type": "stream",
     "text": [
      "          A         B         C         D\n",
      "0  0.250548  0.587084  0.540006 -1.330175\n",
      "1  0.274935 -1.380857 -1.936025  2.378606\n",
      "2  0.395628 -0.005961 -0.882882  2.101459\n",
      "3  0.921322  0.679493 -0.937758  1.030550\n",
      "4 -0.385175  1.326785 -0.284769 -0.298832\n",
      "5 -0.785288 -1.108443  0.154952 -0.849534\n",
      "6  0.574385  1.687469  0.389968 -0.303785\n",
      "7 -0.576498  2.823588  1.701984 -1.732787\n",
      "8 -0.029710  0.095070 -1.455744  1.629916\n",
      "9 -0.504900  0.539112  0.201643 -1.845998\n"
     ]
    }
   ],
   "source": [
    "# dataframes\n",
    "# Series and DataFrame are case-sensitive\n",
    "\n",
    "import pandas as pd\n",
    "import numpy as np\n",
    "\n",
    "df = pd.DataFrame(np.random.randn(10,4), columns=list('ABCD'))\n",
    "print(df)"
   ]
  },
  {
   "cell_type": "code",
   "execution_count": 27,
   "metadata": {},
   "outputs": [
    {
     "name": "stdout",
     "output_type": "stream",
     "text": [
      "                   A         B         C         D\n",
      "2019-05-25  0.250548  0.587084  0.540006 -1.330175\n",
      "2019-05-26  0.274935 -1.380857 -1.936025  2.378606\n",
      "2019-05-27  0.395628 -0.005961 -0.882882  2.101459\n",
      "2019-05-28  0.921322  0.679493 -0.937758  1.030550\n",
      "2019-05-29 -0.385175  1.326785 -0.284769 -0.298832\n",
      "2019-05-30 -0.785288 -1.108443  0.154952 -0.849534\n",
      "2019-05-31  0.574385  1.687469  0.389968 -0.303785\n",
      "2019-06-01 -0.576498  2.823588  1.701984 -1.732787\n",
      "2019-06-02 -0.029710  0.095070 -1.455744  1.629916\n",
      "2019-06-03 -0.504900  0.539112  0.201643 -1.845998\n"
     ]
    }
   ],
   "source": [
    "# loading content from a csv file\n",
    "\n",
    "# dfreadex = pd.read_csv('data.csv')\n",
    "\n",
    "days = pd.date_range('20190525', periods=10)\n",
    "df.index = days\n",
    "print(df)\n",
    "\n",
    "# print(df.index)\n",
    "# print(df.values)"
   ]
  },
  {
   "cell_type": "code",
   "execution_count": 28,
   "metadata": {},
   "outputs": [
    {
     "name": "stdout",
     "output_type": "stream",
     "text": [
      "               A          B          C          D\n",
      "count  10.000000  10.000000  10.000000  10.000000\n",
      "mean    0.013525   0.524334  -0.250862   0.077942\n",
      "std     0.560258   1.250458   1.074095   1.592159\n",
      "min    -0.785288  -1.380857  -1.936025  -1.845998\n",
      "25%    -0.474968   0.019297  -0.924039  -1.210015\n",
      "50%     0.110419   0.563098  -0.064908  -0.301308\n",
      "75%     0.365455   1.164962   0.342887   1.480075\n",
      "max     0.921322   2.823588   1.701984   2.378606\n"
     ]
    }
   ],
   "source": [
    "print(df.describe())"
   ]
  },
  {
   "cell_type": "code",
   "execution_count": 29,
   "metadata": {},
   "outputs": [
    {
     "name": "stdout",
     "output_type": "stream",
     "text": [
      "A    0.013525\n",
      "B    0.524334\n",
      "C   -0.250862\n",
      "D    0.077942\n",
      "dtype: float64\n",
      "2019-05-25    0.011866\n",
      "2019-05-26   -0.165835\n",
      "2019-05-27    0.402061\n",
      "2019-05-28    0.423402\n",
      "2019-05-29    0.089502\n",
      "2019-05-30   -0.647078\n",
      "2019-05-31    0.587009\n",
      "2019-06-01    0.554072\n",
      "2019-06-02    0.059883\n",
      "2019-06-03   -0.402536\n",
      "Freq: D, dtype: float64\n"
     ]
    }
   ],
   "source": [
    "# mean for each column = 0\n",
    "print(df.mean(0))\n",
    "\n",
    "# mean for each row = 1\n",
    "print(df.mean(1))"
   ]
  },
  {
   "cell_type": "code",
   "execution_count": 31,
   "metadata": {},
   "outputs": [
    {
     "name": "stdout",
     "output_type": "stream",
     "text": [
      "                   A         B         C         D\n",
      "2019-05-25  0.250548  0.587084  0.540006 -1.330175\n",
      "2019-05-26  0.274935 -1.380857 -1.936025  2.378606\n",
      "2019-05-27  0.395628 -0.005961 -0.882882  2.101459\n",
      "2019-05-28  0.921322  0.679493 -0.937758  1.030550\n",
      "2019-05-29 -0.385175  1.326785 -0.284769 -0.298832\n",
      "                   A         B         C         D\n",
      "2019-05-25  0.250548  0.587084  0.540006 -1.330175\n",
      "2019-05-26  0.274935 -1.380857 -1.936025  2.378606\n",
      "2019-05-27  0.395628 -0.005961 -0.882882  2.101459\n",
      "                   A         B         C         D\n",
      "2019-05-30 -0.785288 -1.108443  0.154952 -0.849534\n",
      "2019-05-31  0.574385  1.687469  0.389968 -0.303785\n",
      "2019-06-01 -0.576498  2.823588  1.701984 -1.732787\n",
      "2019-06-02 -0.029710  0.095070 -1.455744  1.629916\n",
      "2019-06-03 -0.504900  0.539112  0.201643 -1.845998\n",
      "                   A         B         C         D\n",
      "2019-05-27  0.395628 -0.005961 -0.882882  2.101459\n",
      "2019-05-28  0.921322  0.679493 -0.937758  1.030550\n",
      "2019-05-29 -0.385175  1.326785 -0.284769 -0.298832\n",
      "2019-05-30 -0.785288 -1.108443  0.154952 -0.849534\n",
      "2019-05-31  0.574385  1.687469  0.389968 -0.303785\n",
      "2019-06-01 -0.576498  2.823588  1.701984 -1.732787\n",
      "2019-06-02 -0.029710  0.095070 -1.455744  1.629916\n",
      "2019-06-03 -0.504900  0.539112  0.201643 -1.845998\n"
     ]
    }
   ],
   "source": [
    "print(df.head())\n",
    "print(df.head(3))\n",
    "\n",
    "print(df.tail())\n",
    "print(df.tail(8))"
   ]
  },
  {
   "cell_type": "code",
   "execution_count": 33,
   "metadata": {},
   "outputs": [
    {
     "name": "stdout",
     "output_type": "stream",
     "text": [
      "                   B         C\n",
      "2019-05-25  0.587084  0.540006\n",
      "2019-05-26 -1.380857 -1.936025\n",
      "2019-05-27 -0.005961 -0.882882\n",
      "2019-05-28  0.679493 -0.937758\n",
      "2019-05-29  1.326785 -0.284769\n",
      "2019-05-30 -1.108443  0.154952\n",
      "2019-05-31  1.687469  0.389968\n",
      "2019-06-01  2.823588  1.701984\n",
      "2019-06-02  0.095070 -1.455744\n",
      "2019-06-03  0.539112  0.201643\n"
     ]
    }
   ],
   "source": [
    "# can grab a singular row for series or multiple for a dataframe\n",
    "print(df[['B','C']])"
   ]
  },
  {
   "cell_type": "code",
   "execution_count": 34,
   "metadata": {},
   "outputs": [
    {
     "name": "stdout",
     "output_type": "stream",
     "text": [
      "                   A         B         C         D\n",
      "2019-05-27  0.395628 -0.005961 -0.882882  2.101459\n",
      "2019-05-28  0.921322  0.679493 -0.937758  1.030550\n"
     ]
    }
   ],
   "source": [
    "# slicing, can use df.iloc as well\n",
    "print(df[2:4])"
   ]
  },
  {
   "cell_type": "code",
   "execution_count": 35,
   "metadata": {},
   "outputs": [],
   "source": [
    "# df.iloc[[2,4]] only grabs row 2 and 4, not a range"
   ]
  },
  {
   "cell_type": "code",
   "execution_count": 36,
   "metadata": {},
   "outputs": [
    {
     "name": "stdout",
     "output_type": "stream",
     "text": [
      "                   B         C         D\n",
      "2019-05-27 -0.005961 -0.882882  2.101459\n",
      "2019-05-28  0.679493 -0.937758  1.030550\n",
      "                   B         D\n",
      "2019-05-27 -0.005961  2.101459\n",
      "2019-05-29  1.326785 -0.298832\n"
     ]
    }
   ],
   "source": [
    "# slicing rows with columns ([row], [col]) non-inclusive for ending selector\n",
    "print(df.iloc[2:4, 1:4])\n",
    "\n",
    "# slicing specific using a list\n",
    "print(df.iloc[[2,4], [1,3]])"
   ]
  },
  {
   "cell_type": "code",
   "execution_count": 39,
   "metadata": {},
   "outputs": [
    {
     "name": "stdout",
     "output_type": "stream",
     "text": [
      "                   A         B         C         D\n",
      "2019-06-01 -0.576498  2.823588  1.701984 -1.732787\n",
      "2019-06-02 -0.029710  0.095070 -1.455744  1.629916\n",
      "2019-06-03 -0.504900  0.539112  0.201643 -1.845998\n",
      "                   C         D\n",
      "2019-05-26 -1.936025  2.378606\n",
      "2019-05-27 -0.882882  2.101459\n",
      "2019-05-28 -0.937758  1.030550\n",
      "2019-05-29 -0.284769 -0.298832\n",
      "                   A         D\n",
      "2019-05-26  0.274935  2.378606\n",
      "2019-05-27  0.395628  2.101459\n",
      "2019-05-28  0.921322  1.030550\n",
      "2019-05-29 -0.385175 -0.298832\n"
     ]
    }
   ],
   "source": [
    "# slicing with labels INclusive for ending selector\n",
    "print(df['20190601':'20190603'])\n",
    "print(df.loc['20190526':'20190529', 'C':'D'])\n",
    "print(df.loc['20190526':'20190529', ['A','D']])"
   ]
  },
  {
   "cell_type": "code",
   "execution_count": 40,
   "metadata": {},
   "outputs": [
    {
     "name": "stdout",
     "output_type": "stream",
     "text": [
      "A   -0.576498\n",
      "B    2.823588\n",
      "C    1.701984\n",
      "D   -1.732787\n",
      "Name: 2019-06-01 00:00:00, dtype: float64\n"
     ]
    }
   ],
   "source": [
    "# slicing a specific row\n",
    "print(df.loc['20190601'])"
   ]
  },
  {
   "cell_type": "code",
   "execution_count": 41,
   "metadata": {},
   "outputs": [
    {
     "name": "stdout",
     "output_type": "stream",
     "text": [
      "                   A         B         C         D\n",
      "2019-06-03 -0.504900  0.539112  0.201643 -1.845998\n",
      "2019-06-01 -0.576498  2.823588  1.701984 -1.732787\n"
     ]
    }
   ],
   "source": [
    "# cannot pick specific rows, needs to be converted\n",
    "from datetime import datetime\n",
    "\n",
    "date1 = datetime(2019, 6, 3, 0, 0, 0)\n",
    "date2 = datetime(2019, 6, 1, 0, 0, 0)\n",
    "\n",
    "print(df.loc[[date1, date2]])"
   ]
  },
  {
   "cell_type": "code",
   "execution_count": 42,
   "metadata": {},
   "outputs": [
    {
     "name": "stdout",
     "output_type": "stream",
     "text": [
      "A   -0.504900\n",
      "C    0.201643\n",
      "Name: 2019-06-03 00:00:00, dtype: float64\n"
     ]
    }
   ],
   "source": [
    "# the following is considered to output a series\n",
    "print(df.loc[date1, ['A','C']])"
   ]
  },
  {
   "cell_type": "code",
   "execution_count": 43,
   "metadata": {},
   "outputs": [
    {
     "name": "stdout",
     "output_type": "stream",
     "text": [
      "0.5391115771581356\n"
     ]
    }
   ],
   "source": [
    "# selecting a specific cell, date still needs conversion\n",
    "from datetime import datetime\n",
    "\n",
    "d = datetime(2019, 6, 3, 0, 0, 0)\n",
    "print(df.at[d,'B'])"
   ]
  },
  {
   "cell_type": "code",
   "execution_count": 44,
   "metadata": {},
   "outputs": [
    {
     "name": "stdout",
     "output_type": "stream",
     "text": [
      "                   A         B         C         D\n",
      "2019-05-25  0.250548  0.587084  0.540006 -1.330175\n",
      "2019-05-28  0.921322  0.679493 -0.937758  1.030550\n",
      "2019-05-31  0.574385  1.687469  0.389968 -0.303785\n"
     ]
    }
   ],
   "source": [
    "# selecting by value using booleans\n",
    "print(df[(df.A > 0) & (df.B > 0)])"
   ]
  },
  {
   "cell_type": "code",
   "execution_count": 45,
   "metadata": {},
   "outputs": [
    {
     "name": "stdout",
     "output_type": "stream",
     "text": [
      "   2019-05-25  2019-05-26  2019-05-27  2019-05-28  2019-05-29  2019-05-30  \\\n",
      "A    0.250548    0.274935    0.395628    0.921322   -0.385175   -0.785288   \n",
      "B    0.587084   -1.380857   -0.005961    0.679493    1.326785   -1.108443   \n",
      "C    0.540006   -1.936025   -0.882882   -0.937758   -0.284769    0.154952   \n",
      "D   -1.330175    2.378606    2.101459    1.030550   -0.298832   -0.849534   \n",
      "\n",
      "   2019-05-31  2019-06-01  2019-06-02  2019-06-03  \n",
      "A    0.574385   -0.576498   -0.029710   -0.504900  \n",
      "B    1.687469    2.823588    0.095070    0.539112  \n",
      "C    0.389968    1.701984   -1.455744    0.201643  \n",
      "D   -0.303785   -1.732787    1.629916   -1.845998  \n",
      "   2019-05-25  2019-05-26  2019-05-27  2019-05-28  2019-05-29  2019-05-30  \\\n",
      "A    0.250548    0.274935    0.395628    0.921322   -0.385175   -0.785288   \n",
      "B    0.587084   -1.380857   -0.005961    0.679493    1.326785   -1.108443   \n",
      "C    0.540006   -1.936025   -0.882882   -0.937758   -0.284769    0.154952   \n",
      "D   -1.330175    2.378606    2.101459    1.030550   -0.298832   -0.849534   \n",
      "\n",
      "   2019-05-31  2019-06-01  2019-06-02  2019-06-03  \n",
      "A    0.574385   -0.576498   -0.029710   -0.504900  \n",
      "B    1.687469    2.823588    0.095070    0.539112  \n",
      "C    0.389968    1.701984   -1.455744    0.201643  \n",
      "D   -0.303785   -1.732787    1.629916   -1.845998  \n"
     ]
    }
   ],
   "source": [
    "# transforming dataframes\n",
    "print(df.transpose())\n",
    "print(df.T)"
   ]
  },
  {
   "cell_type": "code",
   "execution_count": 46,
   "metadata": {},
   "outputs": [
    {
     "name": "stdout",
     "output_type": "stream",
     "text": [
      "DataFrame\n"
     ]
    }
   ],
   "source": [
    "# check is series or dataframe\n",
    "def checkSeriesOrDataframe(var):\n",
    "    if isinstance(var, pd.DataFrame):\n",
    "        return 'DataFrame'\n",
    "    if isinstance(var, pd.Series):\n",
    "        return 'Series'\n",
    "print(checkSeriesOrDataframe(df))"
   ]
  },
  {
   "cell_type": "code",
   "execution_count": 49,
   "metadata": {},
   "outputs": [
    {
     "name": "stdout",
     "output_type": "stream",
     "text": [
      "                   A         B         C         D\n",
      "2019-06-03 -0.504900  0.539112  0.201643 -1.845998\n",
      "2019-06-02 -0.029710  0.095070 -1.455744  1.629916\n",
      "2019-06-01 -0.576498  2.823588  1.701984 -1.732787\n",
      "2019-05-31  0.574385  1.687469  0.389968 -0.303785\n",
      "2019-05-30 -0.785288 -1.108443  0.154952 -0.849534\n",
      "2019-05-29 -0.385175  1.326785 -0.284769 -0.298832\n",
      "2019-05-28  0.921322  0.679493 -0.937758  1.030550\n",
      "2019-05-27  0.395628 -0.005961 -0.882882  2.101459\n",
      "2019-05-26  0.274935 -1.380857 -1.936025  2.378606\n",
      "2019-05-25  0.250548  0.587084  0.540006 -1.330175\n",
      "                   D         C         B         A\n",
      "2019-05-25 -1.330175  0.540006  0.587084  0.250548\n",
      "2019-05-26  2.378606 -1.936025 -1.380857  0.274935\n",
      "2019-05-27  2.101459 -0.882882 -0.005961  0.395628\n",
      "2019-05-28  1.030550 -0.937758  0.679493  0.921322\n",
      "2019-05-29 -0.298832 -0.284769  1.326785 -0.385175\n",
      "2019-05-30 -0.849534  0.154952 -1.108443 -0.785288\n",
      "2019-05-31 -0.303785  0.389968  1.687469  0.574385\n",
      "2019-06-01 -1.732787  1.701984  2.823588 -0.576498\n",
      "2019-06-02  1.629916 -1.455744  0.095070 -0.029710\n",
      "2019-06-03 -1.845998  0.201643  0.539112 -0.504900\n"
     ]
    }
   ],
   "source": [
    "# sorting data in a DataFrame, 0 meaning sort by index, 1 meaning sort by column\n",
    "# does not effect original DataFrame, use `inplace=True`\n",
    "print(df.sort_index(axis=0, ascending=False))\n",
    "print(df.sort_index(axis=1, ascending=False))"
   ]
  },
  {
   "cell_type": "code",
   "execution_count": 52,
   "metadata": {},
   "outputs": [
    {
     "name": "stdout",
     "output_type": "stream",
     "text": [
      "                   A         B         C         D\n",
      "2019-05-26  0.274935 -1.380857 -1.936025  2.378606\n",
      "2019-05-30 -0.785288 -1.108443  0.154952 -0.849534\n",
      "2019-05-27  0.395628 -0.005961 -0.882882  2.101459\n",
      "2019-06-02 -0.029710  0.095070 -1.455744  1.629916\n",
      "2019-06-03 -0.504900  0.539112  0.201643 -1.845998\n",
      "2019-05-25  0.250548  0.587084  0.540006 -1.330175\n",
      "2019-05-28  0.921322  0.679493 -0.937758  1.030550\n",
      "2019-05-29 -0.385175  1.326785 -0.284769 -0.298832\n",
      "2019-05-31  0.574385  1.687469  0.389968 -0.303785\n",
      "2019-06-01 -0.576498  2.823588  1.701984 -1.732787\n",
      "                   C         B         A         D\n",
      "2019-05-25  0.540006  0.587084  0.250548 -1.330175\n",
      "2019-05-26 -1.936025 -1.380857  0.274935  2.378606\n",
      "2019-05-27 -0.882882 -0.005961  0.395628  2.101459\n",
      "2019-05-28 -0.937758  0.679493  0.921322  1.030550\n",
      "2019-05-29 -0.284769  1.326785 -0.385175 -0.298832\n",
      "2019-05-30  0.154952 -1.108443 -0.785288 -0.849534\n",
      "2019-05-31  0.389968  1.687469  0.574385 -0.303785\n",
      "2019-06-01  1.701984  2.823588 -0.576498 -1.732787\n",
      "2019-06-02 -1.455744  0.095070 -0.029710  1.629916\n",
      "2019-06-03  0.201643  0.539112 -0.504900 -1.845998\n"
     ]
    }
   ],
   "source": [
    "# sorting by value, sort by index axis=1\n",
    "print(df.sort_values('B', axis=0))\n",
    "print(df.sort_values('20190528', axis=1))"
   ]
  },
  {
   "cell_type": "code",
   "execution_count": 53,
   "metadata": {},
   "outputs": [
    {
     "name": "stdout",
     "output_type": "stream",
     "text": [
      "2019-05-25    0.766214\n",
      "2019-05-26   -1.380857\n",
      "2019-05-27   -0.005961\n",
      "2019-05-28    0.824314\n",
      "2019-05-29    1.151862\n",
      "2019-05-30   -1.108443\n",
      "2019-05-31    1.299026\n",
      "2019-06-01    1.680354\n",
      "2019-06-02    0.308335\n",
      "2019-06-03    0.734242\n",
      "Freq: D, Name: B, dtype: float64\n"
     ]
    }
   ],
   "source": [
    "# applying functions\n",
    "# lambda is a small anonymous function that can take any number of arguments but returns one expression\n",
    "# objects pass to apply() are 'series objects', index is either index (axis=0) or column (axis=1)\n",
    "import math\n",
    "sq_root = lambda x: math.sqrt(x) if x > 0 else x\n",
    "sq = lambda x: x**2\n",
    "\n",
    "print(df.B.apply(sq_root))"
   ]
  },
  {
   "cell_type": "code",
   "execution_count": 55,
   "metadata": {},
   "outputs": [
    {
     "name": "stdout",
     "output_type": "stream",
     "text": [
      "2019-05-25    0.344668\n",
      "2019-05-26    1.906765\n",
      "2019-05-27    0.000036\n",
      "2019-05-28    0.461711\n",
      "2019-05-29    1.760358\n",
      "2019-05-30    1.228646\n",
      "2019-05-31    2.847552\n",
      "2019-06-01    7.972649\n",
      "2019-06-02    0.009038\n",
      "2019-06-03    0.290641\n",
      "Freq: D, Name: B, dtype: float64\n",
      "                   A         B         C         D\n",
      "2019-05-25  0.062774  0.344668  0.291607  1.769365\n",
      "2019-05-26  0.075589  1.906765  3.748191  5.657764\n",
      "2019-05-27  0.156522  0.000036  0.779480  4.416131\n",
      "2019-05-28  0.848834  0.461711  0.879391  1.062034\n",
      "2019-05-29  0.148360  1.760358  0.081093  0.089300\n",
      "2019-05-30  0.616677  1.228646  0.024010  0.721708\n",
      "2019-05-31  0.329918  2.847552  0.152075  0.092285\n",
      "2019-06-01  0.332350  7.972649  2.896750  3.002552\n",
      "2019-06-02  0.000883  0.009038  2.119191  2.656627\n",
      "2019-06-03  0.254924  0.290641  0.040660  3.407710\n"
     ]
    }
   ],
   "source": [
    "# print(df.apply(sq_root)) returns an error\n",
    "print(df.B.apply(sq))\n",
    "print(df.apply(sq))"
   ]
  },
  {
   "cell_type": "code",
   "execution_count": 57,
   "metadata": {},
   "outputs": [
    {
     "name": "stdout",
     "output_type": "stream",
     "text": [
      "                   A         B         C         D\n",
      "2019-05-25  0.500548  0.766214  0.734851 -1.330175\n",
      "2019-05-26  0.524342 -1.380857 -1.936025  1.542273\n",
      "2019-05-27  0.628990 -0.005961 -0.882882  1.449641\n",
      "2019-05-28  0.959855  0.824314 -0.937758  1.015160\n",
      "2019-05-29 -0.385175  1.151862 -0.284769 -0.298832\n",
      "2019-05-30 -0.785288 -1.108443  0.393640 -0.849534\n",
      "2019-05-31  0.757882  1.299026  0.624474 -0.303785\n",
      "2019-06-01 -0.576498  1.680354  1.304601 -1.732787\n",
      "2019-06-02 -0.029710  0.308335 -1.455744  1.276682\n",
      "2019-06-03 -0.504900  0.734242  0.449047 -1.845998\n"
     ]
    }
   ],
   "source": [
    "# mutates original set?\n",
    "for column in df:\n",
    "    df[column] = df[column].apply(sq_root)\n",
    "print(df)"
   ]
  },
  {
   "cell_type": "code",
   "execution_count": 59,
   "metadata": {},
   "outputs": [
    {
     "name": "stdout",
     "output_type": "stream",
     "text": [
      "A    1.090047\n",
      "B    4.269085\n",
      "C   -1.990564\n",
      "D   -1.077355\n",
      "dtype: float64\n",
      "2019-05-25    0.671439\n",
      "2019-05-26   -1.250266\n",
      "2019-05-27    1.189788\n",
      "2019-05-28    1.861570\n",
      "2019-05-29    0.183086\n",
      "2019-05-30   -2.349625\n",
      "2019-05-31    2.377597\n",
      "2019-06-01    0.675670\n",
      "2019-06-02    0.099562\n",
      "2019-06-03   -1.167609\n",
      "Freq: D, dtype: float64\n"
     ]
    }
   ],
   "source": [
    "# sum examples\n",
    "print(df.apply(np.sum, axis=0)) # across columns\n",
    "print(df.apply(np.sum, axis=1)) # across rows"
   ]
  },
  {
   "cell_type": "code",
   "execution_count": 61,
   "metadata": {},
   "outputs": [
    {
     "name": "stdout",
     "output_type": "stream",
     "text": [
      "              name  year  reports\n",
      "Singapore    Janet  2012        6\n",
      "China          Nad  2012       13\n",
      "Japan      Timothy  2013       14\n",
      "Sweden        June  2014        1\n",
      "Norway         Amy  2014        7\n"
     ]
    }
   ],
   "source": [
    "# adding and removing rows and columns in DataFrames\n",
    "import pandas as pd\n",
    "\n",
    "data = {\n",
    "    'name': ['Janet','Nad','Timothy','June','Amy'],\n",
    "    'year': [2012,2012,2013,2014,2014],\n",
    "    'reports': [6,13,14,1,7]\n",
    "}\n",
    "df = pd.DataFrame(data, index=[\n",
    "    'Singapore', 'China', 'Japan', 'Sweden', 'Norway'\n",
    "])\n",
    "print(df)"
   ]
  },
  {
   "cell_type": "code",
   "execution_count": 62,
   "metadata": {},
   "outputs": [
    {
     "name": "stdout",
     "output_type": "stream",
     "text": [
      "              name  year  reports     school\n",
      "Singapore    Janet  2012        6  Cambridge\n",
      "China          Nad  2012       13     Oxford\n",
      "Japan      Timothy  2013       14     Oxford\n",
      "Sweden        June  2014        1  Cambridge\n",
      "Norway         Amy  2014        7     Oxford\n"
     ]
    }
   ],
   "source": [
    "# add column\n",
    "import numpy as np\n",
    "\n",
    "schools = np.array([\n",
    "    'Cambridge','Oxford','Oxford','Cambridge','Oxford'\n",
    "])\n",
    "df['school'] = schools\n",
    "print(df)"
   ]
  },
  {
   "cell_type": "code",
   "execution_count": 63,
   "metadata": {},
   "outputs": [
    {
     "name": "stdout",
     "output_type": "stream",
     "text": [
      "            name  year  reports     school\n",
      "Singapore  Janet  2012        6  Cambridge\n",
      "Sweden      June  2014        1  Cambridge\n",
      "Norway       Amy  2014        7     Oxford\n"
     ]
    }
   ],
   "source": [
    "# removing row, does not affect original array, use inplace\n",
    "\n",
    "print(df.drop(['China', 'Japan']))"
   ]
  },
  {
   "cell_type": "code",
   "execution_count": 64,
   "metadata": {},
   "outputs": [
    {
     "name": "stdout",
     "output_type": "stream",
     "text": [
      "              name  year  reports     school\n",
      "Singapore    Janet  2012        6  Cambridge\n",
      "Japan      Timothy  2013       14     Oxford\n",
      "Sweden        June  2014        1  Cambridge\n",
      "Norway         Amy  2014        7     Oxford\n"
     ]
    }
   ],
   "source": [
    "# drop row that include 'Nad'\n",
    "print(df[df.name != 'Nad'])"
   ]
  },
  {
   "cell_type": "code",
   "execution_count": 65,
   "metadata": {},
   "outputs": [
    {
     "name": "stdout",
     "output_type": "stream",
     "text": [
      "              name  year  reports     school\n",
      "Singapore    Janet  2012        6  Cambridge\n",
      "Japan      Timothy  2013       14     Oxford\n",
      "Sweden        June  2014        1  Cambridge\n",
      "Norway         Amy  2014        7     Oxford\n"
     ]
    }
   ],
   "source": [
    "print(df.drop(df.index[1]))\n",
    "# or index['China']\n",
    "# or multiple using .index[2,3]\n",
    "# or from end of row using .index[-2]"
   ]
  },
  {
   "cell_type": "code",
   "execution_count": 68,
   "metadata": {},
   "outputs": [
    {
     "name": "stdout",
     "output_type": "stream",
     "text": [
      "              name  year     school\n",
      "Singapore    Janet  2012  Cambridge\n",
      "China          Nad  2012     Oxford\n",
      "Japan      Timothy  2013     Oxford\n",
      "Sweden        June  2014  Cambridge\n",
      "Norway         Amy  2014     Oxford\n"
     ]
    }
   ],
   "source": [
    "# removing columns\n",
    "print(df.drop('reports', axis=1))"
   ]
  },
  {
   "cell_type": "code",
   "execution_count": 71,
   "metadata": {},
   "outputs": [
    {
     "name": "stdout",
     "output_type": "stream",
     "text": [
      "              name  year     school\n",
      "Singapore    Janet  2012  Cambridge\n",
      "China          Nad  2012     Oxford\n",
      "Japan      Timothy  2013     Oxford\n",
      "Sweden        June  2014  Cambridge\n",
      "Norway         Amy  2014     Oxford\n",
      "           year  reports\n",
      "Singapore  2012        6\n",
      "China      2012       13\n",
      "Japan      2013       14\n",
      "Sweden     2014        1\n",
      "Norway     2014        7\n"
     ]
    }
   ],
   "source": [
    "# drop column by number\n",
    "print(df.drop(df.columns[2], axis=1))\n",
    "print(df.drop(df.columns[[0,3]], axis=1))"
   ]
  },
  {
   "cell_type": "code",
   "execution_count": 72,
   "metadata": {},
   "outputs": [
    {
     "name": "stdout",
     "output_type": "stream",
     "text": [
      "   Gender  Team\n",
      "0    Male     1\n",
      "1    Male     2\n",
      "2  Female     3\n",
      "3  Female     3\n",
      "4  Female     1\n"
     ]
    }
   ],
   "source": [
    "# generating crosstabs\n",
    "# in statistics this is used to display distribution of 2+ variables\n",
    "\n",
    "df = pd.DataFrame({\n",
    "    'Gender': ['Male','Male','Female','Female','Female'],\n",
    "    'Team': [1,2,3,3,1]\n",
    "})\n",
    "print(df)"
   ]
  },
  {
   "cell_type": "code",
   "execution_count": 73,
   "metadata": {},
   "outputs": [
    {
     "name": "stdout",
     "output_type": "stream",
     "text": [
      "Team    1  2  3\n",
      "Gender         \n",
      "Female  1  0  2\n",
      "Male    1  1  0\n"
     ]
    }
   ],
   "source": [
    "print(pd.crosstab(df.Gender, df.Team))"
   ]
  },
  {
   "cell_type": "code",
   "execution_count": 74,
   "metadata": {},
   "outputs": [
    {
     "name": "stdout",
     "output_type": "stream",
     "text": [
      "Gender  Female  Male\n",
      "Team                \n",
      "1            1     1\n",
      "2            0     1\n",
      "3            2     0\n"
     ]
    }
   ],
   "source": [
    "print(pd.crosstab(df.Team, df.Gender))"
   ]
  },
  {
   "cell_type": "code",
   "execution_count": null,
   "metadata": {},
   "outputs": [],
   "source": []
  }
 ],
 "metadata": {
  "kernelspec": {
   "display_name": "Python 3 (ipykernel)",
   "language": "python",
   "name": "python3"
  },
  "language_info": {
   "codemirror_mode": {
    "name": "ipython",
    "version": 3
   },
   "file_extension": ".py",
   "mimetype": "text/x-python",
   "name": "python",
   "nbconvert_exporter": "python",
   "pygments_lexer": "ipython3",
   "version": "3.10.9"
  }
 },
 "nbformat": 4,
 "nbformat_minor": 4
}
