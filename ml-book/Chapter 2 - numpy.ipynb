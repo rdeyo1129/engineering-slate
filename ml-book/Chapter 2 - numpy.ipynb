{
 "cells": [
  {
   "cell_type": "code",
   "execution_count": 2,
   "metadata": {},
   "outputs": [
    {
     "name": "stdout",
     "output_type": "stream",
     "text": [
      "[0 1 2 3 4 5 6 7 8 9]\n",
      "(10,)\n"
     ]
    }
   ],
   "source": [
    "import numpy as np\n",
    "\n",
    "a1 = np.arange(10)\n",
    "print(a1)\n",
    "print(a1.shape)"
   ]
  },
  {
   "cell_type": "code",
   "execution_count": 3,
   "metadata": {},
   "outputs": [
    {
     "name": "stdout",
     "output_type": "stream",
     "text": [
      "[ 0  3  6  9 12 15 18 21 24 27]\n"
     ]
    }
   ],
   "source": [
    "a2 = np.arange(0, 30, 3)\n",
    "print(a2)"
   ]
  },
  {
   "cell_type": "code",
   "execution_count": 4,
   "metadata": {},
   "outputs": [
    {
     "name": "stdout",
     "output_type": "stream",
     "text": [
      "[0. 0. 0. 0.]\n"
     ]
    }
   ],
   "source": [
    "a3 = np.zeros(4)\n",
    "print(a3)"
   ]
  },
  {
   "cell_type": "code",
   "execution_count": 5,
   "metadata": {},
   "outputs": [
    {
     "name": "stdout",
     "output_type": "stream",
     "text": [
      "[[0. 0. 0.]\n",
      " [0. 0. 0.]]\n"
     ]
    }
   ],
   "source": [
    "a4 = np.zeros((2,3))\n",
    "print(a4)"
   ]
  },
  {
   "cell_type": "code",
   "execution_count": 6,
   "metadata": {},
   "outputs": [
    {
     "name": "stdout",
     "output_type": "stream",
     "text": [
      "[[7 7 7]\n",
      " [7 7 7]\n",
      " [7 7 7]\n",
      " [7 7 7]]\n"
     ]
    }
   ],
   "source": [
    "a5 = np.full((4,3), 7)\n",
    "print(a5)"
   ]
  },
  {
   "cell_type": "code",
   "execution_count": 7,
   "metadata": {},
   "outputs": [
    {
     "name": "stdout",
     "output_type": "stream",
     "text": [
      "[[1. 0. 0. 0.]\n",
      " [0. 1. 0. 0.]\n",
      " [0. 0. 1. 0.]\n",
      " [0. 0. 0. 1.]]\n"
     ]
    }
   ],
   "source": [
    "# identity matrix\n",
    "a6 = np.eye(4)\n",
    "print(a6)"
   ]
  },
  {
   "cell_type": "code",
   "execution_count": 8,
   "metadata": {},
   "outputs": [
    {
     "name": "stdout",
     "output_type": "stream",
     "text": [
      "[[0.08998743 0.5194238  0.24114226 0.97641642]\n",
      " [0.57788459 0.48831275 0.02501171 0.67894527]]\n"
     ]
    }
   ],
   "source": [
    "# random\n",
    "a7 = np.random.random((2,4))\n",
    "print(a7)"
   ]
  },
  {
   "cell_type": "code",
   "execution_count": 9,
   "metadata": {},
   "outputs": [
    {
     "name": "stdout",
     "output_type": "stream",
     "text": [
      "[1 2 3 4 5]\n"
     ]
    }
   ],
   "source": [
    "# array from list\n",
    "list1 = [1,2,3,4,5]\n",
    "r1 = np.array(list1)\n",
    "print(r1)"
   ]
  },
  {
   "cell_type": "code",
   "execution_count": 10,
   "metadata": {},
   "outputs": [
    {
     "name": "stdout",
     "output_type": "stream",
     "text": [
      "0.5194238025885434\n"
     ]
    }
   ],
   "source": [
    "# accessing arrays\n",
    "print(a7[0,1])"
   ]
  },
  {
   "cell_type": "code",
   "execution_count": 11,
   "metadata": {},
   "outputs": [
    {
     "name": "stdout",
     "output_type": "stream",
     "text": [
      "(2, 4)\n"
     ]
    }
   ],
   "source": [
    "# 2d shape\n",
    "print(a7.shape)"
   ]
  },
  {
   "cell_type": "code",
   "execution_count": 12,
   "metadata": {},
   "outputs": [],
   "source": [
    "list2 = [6,7,8,9,0]\n",
    "r2 = np.array([list1, list2])"
   ]
  },
  {
   "cell_type": "code",
   "execution_count": 13,
   "metadata": {},
   "outputs": [
    {
     "name": "stdout",
     "output_type": "stream",
     "text": [
      "[ True False False False False]\n"
     ]
    }
   ],
   "source": [
    "# boolean indexing\n",
    "print(r1<2)"
   ]
  },
  {
   "cell_type": "code",
   "execution_count": 15,
   "metadata": {},
   "outputs": [
    {
     "name": "stdout",
     "output_type": "stream",
     "text": [
      "[3 4 5]\n"
     ]
    }
   ],
   "source": [
    "print(r1[r1>2])"
   ]
  },
  {
   "cell_type": "code",
   "execution_count": 17,
   "metadata": {},
   "outputs": [
    {
     "name": "stdout",
     "output_type": "stream",
     "text": [
      "[ 0  1  2  3  4  5  6  7  8  9 10 11 12 13 14 15 16 17 18 19]\n",
      "[ 1  3  5  7  9 11 13 15 17 19]\n"
     ]
    }
   ],
   "source": [
    "# boolean indexing example\n",
    "nums = np.arange(20)\n",
    "print(nums)\n",
    "\n",
    "odds = nums[nums % 2 == 1]\n",
    "print(odds)"
   ]
  },
  {
   "cell_type": "code",
   "execution_count": 24,
   "metadata": {},
   "outputs": [
    {
     "name": "stdout",
     "output_type": "stream",
     "text": [
      "[[1 2 3 4 5]\n",
      " [4 5 6 7 8]\n",
      " [9 8 7 6 5]]\n"
     ]
    }
   ],
   "source": [
    "import numpy as np\n",
    "\n",
    "a = np.array([[1,2,3,4,5],\n",
    "              [4,5,6,7,8],\n",
    "              [9,8,7,6,5]])\n",
    "print(a)"
   ]
  },
  {
   "cell_type": "code",
   "execution_count": 3,
   "metadata": {},
   "outputs": [
    {
     "name": "stdout",
     "output_type": "stream",
     "text": [
      "[[4 5 6]\n",
      " [9 8 7]]\n"
     ]
    }
   ],
   "source": [
    "# slicing arrays\n",
    "b1 = a[1:3, :3]\n",
    "print(b1)"
   ]
  },
  {
   "cell_type": "code",
   "execution_count": 4,
   "metadata": {},
   "outputs": [
    {
     "name": "stdout",
     "output_type": "stream",
     "text": [
      "[[1 2 3 4]\n",
      " [4 5 6 7]]\n"
     ]
    }
   ],
   "source": [
    "btest = a[0:2, :4]\n",
    "print(btest)"
   ]
  },
  {
   "cell_type": "code",
   "execution_count": 5,
   "metadata": {},
   "outputs": [
    {
     "name": "stdout",
     "output_type": "stream",
     "text": [
      "[[2 3]\n",
      " [5 6]\n",
      " [8 7]]\n"
     ]
    }
   ],
   "source": [
    "btest2 = a[0:3, 1:3]\n",
    "print(btest2)"
   ]
  },
  {
   "cell_type": "code",
   "execution_count": 6,
   "metadata": {
    "scrolled": true
   },
   "outputs": [
    {
     "name": "stdout",
     "output_type": "stream",
     "text": [
      "[[7 8]\n",
      " [6 5]]\n"
     ]
    }
   ],
   "source": [
    "b2 = a[-2:,-2:]\n",
    "print(b2)"
   ]
  },
  {
   "cell_type": "code",
   "execution_count": 7,
   "metadata": {},
   "outputs": [
    {
     "name": "stdout",
     "output_type": "stream",
     "text": [
      "[[6 7 8]\n",
      " [7 6 5]]\n"
     ]
    }
   ],
   "source": [
    "# this is a reference of the original array, not a copy\n",
    "b3 = a[1:,2:]\n",
    "print(b3)"
   ]
  },
  {
   "cell_type": "code",
   "execution_count": 10,
   "metadata": {},
   "outputs": [
    {
     "name": "stdout",
     "output_type": "stream",
     "text": [
      "[[9 8 7 6 5]]\n",
      "(1, 5)\n"
     ]
    }
   ],
   "source": [
    "b4 = a[2:,:]\n",
    "print(b4)\n",
    "print(b4.shape)"
   ]
  },
  {
   "cell_type": "code",
   "execution_count": 11,
   "metadata": {},
   "outputs": [
    {
     "name": "stdout",
     "output_type": "stream",
     "text": [
      "[9 8 7 6 5]\n",
      "(5,)\n"
     ]
    }
   ],
   "source": [
    "b5 = a[2,:]\n",
    "print(b5)\n",
    "print(b5.shape)"
   ]
  },
  {
   "cell_type": "code",
   "execution_count": 13,
   "metadata": {},
   "outputs": [
    {
     "name": "stdout",
     "output_type": "stream",
     "text": [
      "[[9 8 7 6 5]]\n"
     ]
    }
   ],
   "source": [
    "# reshaping\n",
    "b5 = b5.reshape(1,-1)\n",
    "print(b5)\n",
    "\n",
    "# -1 lets the method decide what to reshape it to\n",
    "# see .flatten() (copy) or .ravel() (reference)"
   ]
  },
  {
   "cell_type": "code",
   "execution_count": 14,
   "metadata": {},
   "outputs": [
    {
     "name": "stdout",
     "output_type": "stream",
     "text": [
      "[[ 8 10 12]\n",
      " [ 6  8 10]]\n"
     ]
    }
   ],
   "source": [
    "# vector addition\n",
    "x1 = np.array([[1,2,3],[4,5,6]])\n",
    "y1 = np.array([[7,8,9],[2,3,4]])\n",
    "print(x1 + y1)\n",
    "# or np.add(x1,y1)"
   ]
  },
  {
   "cell_type": "code",
   "execution_count": 15,
   "metadata": {},
   "outputs": [
    {
     "name": "stdout",
     "output_type": "stream",
     "text": [
      "[[-6 -6 -6]\n",
      " [ 2  2  2]]\n",
      "[[ 7 16 27]\n",
      " [ 8 15 24]]\n",
      "[[0.14285714 0.25       0.33333333]\n",
      " [2.         1.66666667 1.5       ]]\n"
     ]
    }
   ],
   "source": [
    "print(np.subtract(x1,y1))\n",
    "print(np.multiply(x1,y1))\n",
    "print(np.divide(x1,y1))"
   ]
  },
  {
   "cell_type": "code",
   "execution_count": 17,
   "metadata": {},
   "outputs": [
    {
     "data": {
      "text/plain": [
       "14"
      ]
     },
     "execution_count": 17,
     "metadata": {},
     "output_type": "execute_result"
    }
   ],
   "source": [
    "# scalar / dot product\n",
    "x = np.array([2,3])\n",
    "y = np.array([4,2])\n",
    "np.dot(x,y)"
   ]
  },
  {
   "cell_type": "code",
   "execution_count": 20,
   "metadata": {},
   "outputs": [
    {
     "name": "stdout",
     "output_type": "stream",
     "text": [
      "[[ 58  64]\n",
      " [139 154]]\n"
     ]
    }
   ],
   "source": [
    "# matrix multiplication\n",
    "x2 = np.array([[1,2,3],[4,5,6]])\n",
    "y2 = np.array([[7,8],[9,10],[11,12]])\n",
    "print(np.dot(x2,y2))"
   ]
  },
  {
   "cell_type": "code",
   "execution_count": 22,
   "metadata": {},
   "outputs": [
    {
     "name": "stdout",
     "output_type": "stream",
     "text": [
      "[[11 14]\n",
      " [38 47]]\n"
     ]
    }
   ],
   "source": [
    "# matrix class - 2d only\n",
    "# subclass of ndarray\n",
    "x3 = np.matrix([[1,2],[4,5]])\n",
    "y3 = np.matrix([[7,8],[2,3]])\n",
    "# convert array to matrix with asmatrix()\n",
    "print(x3*y3)"
   ]
  },
  {
   "cell_type": "code",
   "execution_count": 28,
   "metadata": {},
   "outputs": [
    {
     "name": "stdout",
     "output_type": "stream",
     "text": [
      "[ 1  3  6 10 15 21 28 36 45]\n",
      "[[ 1  2  3]\n",
      " [ 5  7  9]\n",
      " [12 15 18]]\n",
      "[[ 1  3  6]\n",
      " [ 4  9 15]\n",
      " [ 7 15 24]]\n"
     ]
    }
   ],
   "source": [
    "# cumulative sum\n",
    "atest = np.array([(1,2,3),(4,5,6),(7,8,9)])\n",
    "print(atest.cumsum())\n",
    "print(atest.cumsum(axis=0))\n",
    "print(atest.cumsum(axis=1))"
   ]
  },
  {
   "cell_type": "code",
   "execution_count": 30,
   "metadata": {},
   "outputs": [
    {
     "name": "stdout",
     "output_type": "stream",
     "text": [
      "[ 5 12 13 34 37]\n"
     ]
    }
   ],
   "source": [
    "# sorting\n",
    "ages = np.array([34,12,37,5,13])\n",
    "sorted_ages = np.sort(ages)\n",
    "print(sorted_ages)"
   ]
  },
  {
   "cell_type": "code",
   "execution_count": 31,
   "metadata": {},
   "outputs": [
    {
     "name": "stdout",
     "output_type": "stream",
     "text": [
      "[ 5 12 13 34 37]\n"
     ]
    }
   ],
   "source": [
    "# sort original array\n",
    "ages.sort()\n",
    "print(ages)"
   ]
  },
  {
   "cell_type": "code",
   "execution_count": 32,
   "metadata": {},
   "outputs": [
    {
     "name": "stdout",
     "output_type": "stream",
     "text": [
      "[3 1 4 0 2]\n"
     ]
    }
   ],
   "source": [
    "ages = np.array([34,12,37,5,13])\n",
    "print(ages.argsort())"
   ]
  },
  {
   "cell_type": "code",
   "execution_count": 34,
   "metadata": {},
   "outputs": [
    {
     "name": "stdout",
     "output_type": "stream",
     "text": [
      "[ 5 12 13 34 37]\n"
     ]
    }
   ],
   "source": [
    "print(ages[ages.argsort()])"
   ]
  },
  {
   "cell_type": "code",
   "execution_count": 35,
   "metadata": {},
   "outputs": [
    {
     "name": "stdout",
     "output_type": "stream",
     "text": [
      "['Will' 'Mary' 'Joe' 'John' 'Peter']\n",
      "[ 5 12 13 34 37]\n",
      "[0.5  1.2  1.25 1.76 1.68]\n"
     ]
    }
   ],
   "source": [
    "# argsort example\n",
    "persons = np.array(['John','Mary','Peter','Will','Joe'])\n",
    "ages = np.array([34,12,37,5,13])\n",
    "heights = np.array([1.76,1.2,1.68,0.5,1.25])\n",
    "\n",
    "sort_indicies = np.argsort(ages)\n",
    "print(persons[sort_indicies])\n",
    "print(ages[sort_indicies])\n",
    "print(heights[sort_indicies])"
   ]
  },
  {
   "cell_type": "code",
   "execution_count": 39,
   "metadata": {},
   "outputs": [
    {
     "name": "stdout",
     "output_type": "stream",
     "text": [
      "['Will' 'Peter' 'Mary' 'John' 'Joe']\n"
     ]
    }
   ],
   "source": [
    "# can sort based on names as well with np.argsort(persons)\n",
    "# and can sort reverse order as well\n",
    "sort_indicies_reverse = np.argsort(persons)[::-1]\n",
    "print(persons[sort_indicies_reverse])"
   ]
  },
  {
   "cell_type": "code",
   "execution_count": 40,
   "metadata": {},
   "outputs": [
    {
     "name": "stdout",
     "output_type": "stream",
     "text": [
      "[[1 2 3 4]\n",
      " [5 6 7 8]]\n"
     ]
    }
   ],
   "source": [
    "# array assignment\n",
    "list1 = [[1,2,3,4],[5,6,7,8]]\n",
    "a1 = np.array(list1)\n",
    "print(a1)"
   ]
  },
  {
   "cell_type": "code",
   "execution_count": 46,
   "metadata": {},
   "outputs": [
    {
     "name": "stdout",
     "output_type": "stream",
     "text": [
      "[[11  2  3  4  5  6  7  8]]\n"
     ]
    }
   ],
   "source": [
    "a2 = a1\n",
    "print(a2)"
   ]
  },
  {
   "cell_type": "code",
   "execution_count": 43,
   "metadata": {},
   "outputs": [
    {
     "name": "stdout",
     "output_type": "stream",
     "text": [
      "[[11  2  3  4]\n",
      " [ 5  6  7  8]]\n",
      "[[1, 2, 3, 4], [5, 6, 7, 8]]\n"
     ]
    }
   ],
   "source": [
    "a2[0][0] = 1\n",
    "print(a1)\n",
    "print(list1)"
   ]
  },
  {
   "cell_type": "code",
   "execution_count": 45,
   "metadata": {},
   "outputs": [
    {
     "name": "stdout",
     "output_type": "stream",
     "text": [
      "[[11  2  3  4  5  6  7  8]]\n",
      "[[11  2  3  4  5  6  7  8]]\n"
     ]
    }
   ],
   "source": [
    "# remember -1 auto-resizes here\n",
    "a1.shape = 1,-1\n",
    "print(a1)\n",
    "print(a2)"
   ]
  },
  {
   "cell_type": "code",
   "execution_count": 57,
   "metadata": {},
   "outputs": [
    {
     "name": "stdout",
     "output_type": "stream",
     "text": [
      "[[11  2  3  4]\n",
      " [ 5  6  7  8]]\n",
      "[[11  2  3  4]\n",
      " [ 5  6  7  8]]\n"
     ]
    }
   ],
   "source": [
    "# copy by view (shallow copy)\n",
    "a1[0][0] = 11\n",
    "a1.shape = 2,4\n",
    "a2 = a1.view()\n",
    "print(a1)\n",
    "print(a2)"
   ]
  },
  {
   "cell_type": "code",
   "execution_count": 59,
   "metadata": {},
   "outputs": [
    {
     "name": "stdout",
     "output_type": "stream",
     "text": [
      "[[11  2  3  4  5  6  7  8]]\n",
      "[[11  2  3  4]\n",
      " [ 5  6  7  8]]\n"
     ]
    }
   ],
   "source": [
    "a1.shape = 1,-1\n",
    "print(a1)\n",
    "print(a2)"
   ]
  },
  {
   "cell_type": "code",
   "execution_count": 60,
   "metadata": {},
   "outputs": [
    {
     "name": "stdout",
     "output_type": "stream",
     "text": [
      "[[111   2   3   4]\n",
      " [  5   6   7   8]]\n",
      "[[1 2 3 4]\n",
      " [5 6 7 8]]\n",
      "[[111   2   3   4   5   6   7   8]]\n",
      "[[1 2 3 4]\n",
      " [5 6 7 8]]\n"
     ]
    }
   ],
   "source": [
    "# copying by value (deep copy)\n",
    "a1 = np.array(list1)\n",
    "a2 = a1.copy()\n",
    "\n",
    "a1[0][0] = 111\n",
    "print(a1)\n",
    "print(a2)\n",
    "\n",
    "a1.shape = 1,-1\n",
    "print(a1)\n",
    "print(a2)"
   ]
  },
  {
   "cell_type": "code",
   "execution_count": null,
   "metadata": {},
   "outputs": [],
   "source": []
  }
 ],
 "metadata": {
  "kernelspec": {
   "display_name": "Python 3 (ipykernel)",
   "language": "python",
   "name": "python3"
  },
  "language_info": {
   "codemirror_mode": {
    "name": "ipython",
    "version": 3
   },
   "file_extension": ".py",
   "mimetype": "text/x-python",
   "name": "python",
   "nbconvert_exporter": "python",
   "pygments_lexer": "ipython3",
   "version": "3.10.9"
  }
 },
 "nbformat": 4,
 "nbformat_minor": 4
}
