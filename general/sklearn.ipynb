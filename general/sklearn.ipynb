{
 "cells": [
  {
   "cell_type": "code",
   "execution_count": null,
   "id": "3d1d80da",
   "metadata": {},
   "outputs": [],
   "source": [
    "- Data preprocessing\n",
    "    - Scaling, normalization, imputation\n",
    "    - Load features into pandas dataframe\n",
    "    - Pipeline (`sklearn.pipeline`)\n",
    "        - Chains multiple preprocessing and machine learning steps together, each output is the input of the next step `Pipeline(steps=[('meanigful string that refers to this step', Technique), ()]`.\n",
    "    - StandardScaler (`sklearn.preprocessing`)\n",
    "        - Used for numeric, discrete, continuous.\n",
    "        - Technique that scales data so that each feature has a mean of 0 and standard deviation of 1.\n",
    "        - Rescales each feature to have the same scale, making it easier to compare relative importance of different features.\n",
    "    - OneHotEncoding (`sklearn.preprocessing`)\n",
    "        - Used to convert categorical (ordinal?) features into numerical features that can be read by algorithms.\n",
    "        - Creates binary for each category in original feature.\n",
    "    - Column Transformer (`sklearn.compose`)\n",
    "        - Apply preprocessing to a column or sub-columns to allow for transformations.\n",
    "        - `ColumnTransformer(transformers=[('name', technique, ['col_el_1', 'col_el_2']`.\n",
    "    - SelectKBest, f_regression (`sklearn.feature_selection`)\n",
    "        - Selects top k features based on scoring function.\n",
    "        - `selector = SelectKBest(score_func=regression, k=10)`\n",
    "        - `selector.fitTransform(X, y)`\n",
    "        - k selects top 10 features.\n",
    "        - Feature Selection\n",
    "            - Using all features can lead to overfitting and reduced performance.\n",
    "            - SelectKBest\n",
    "                - Helps you focus on the most important patterns in the data.\n",
    "                - Reduces overfitting, makes model less complex.\n",
    "                - Fits noise and signal of data (see kaggle notes here?).\n",
    "                - Faster training times.\n",
    "        - f_regression\n",
    "            - Based on F-test, returns F-score and p-value (see Stat Notes)."
   ]
  },
  {
   "cell_type": "code",
   "execution_count": null,
   "id": "d79a7214",
   "metadata": {},
   "outputs": [],
   "source": [
    "- Feature extraction\n",
    "    - Principal Component Analysis, Linear Discriminant Analysis, Non-negative Matrix Factorization. Used to reduce dimensionality or extract meaningful features.\n",
    "    - CountVectorizer (`sklearn.feature_extraction.text`)\n",
    "        - `.fit_transform(array_of_strings)`\n",
    "        - Outputs a binary representation based on whether the existing list of words in the overall matrix appears in that element (1: appears, 0: doesn’t appear)\n",
    "        - Corp(us/a): large and structured set of texts, recording, or other form of linguistic data. Passed to vectorizer for tokenization and counting.\n",
    "    - PCA (`sklearn.decomposition`)\n",
    "        - Reduces dimensionality by finding most important features (principal components) that explain the majority of variance in the data.\n",
    "        - Transforms original dataset into a new coordinate system with the axes in the directions in the data with highest variance.\n",
    "        - First component with highest variance and subsequent components perpendicular to previous ones explaining remaining variance.\n",
    "        - Uses Singular Value Decomposition to decompose original data matrix into eigenvectors (direction of maximum variance) and eigenvalues.\n",
    "            - Eigenvector: when multiplied by a matrix yields scaled version of itself.\n",
    "            - Eigenvalue: scaling factor of eigenvector.\n",
    "        - Can be used for: dimensionality reduction, visualization, noise reduction\n",
    "        - transform looks like 1000 rows 50 cols to 1000 rows 10 cols.\n",
    "        - Values in output matrix are also scaled to mean 0 and SD 1.\n",
    "    - LDA\n",
    "        - Finds linear combinations that best separates different classes of data.\n",
    "        - Maximizes ratio of between-class variance to within-class variance.\n",
    "        - Results in new set of variables used to classify new data points.\n",
    "        - Used in pattern recognition, image processing, and feature extraction.\n",
    "        - Topic modeling.\n",
    "    - NMF\n",
    "        - Decomposes matrix into two non-negative matrices.\n",
    "        - Finds basis vectors (cols of matrix 1) and coefficients (rows of matrix 2) that can be combined to create the original matrix.\n",
    "        - Useful in text analysis.\n",
    "        - Topic modeling and interpretability."
   ]
  },
  {
   "cell_type": "code",
   "execution_count": null,
   "id": "ce4d8552",
   "metadata": {},
   "outputs": [],
   "source": [
    "- Model selection\n",
    "    - [ML Kaggle]\n",
    "    - Cross-validation, grid search, random search.\n",
    "    - Used for prediction or classifying new data points."
   ]
  },
  {
   "cell_type": "code",
   "execution_count": null,
   "id": "3297380c",
   "metadata": {},
   "outputs": [],
   "source": [
    "- Model training\n",
    "    - Linear regression, logistic regression, decision trees, random forests, support vector machines, neural networks."
   ]
  },
  {
   "cell_type": "code",
   "execution_count": null,
   "id": "de7b705a",
   "metadata": {},
   "outputs": [],
   "source": [
    "- Evaluation\n",
    "    - …on performance of models such as accuracy, prediction, recall, F1 score, ROC curves, confusion matrices.\n",
    "    - Used top measure effectiveness of a model and how it compares.\n",
    "    - confusion_matrix (`sklearn.metrics`)\n",
    "        - Used to describe the performance of a classification model on test data on which the true values are known.\n",
    "        - Basic table that deals with binary classification compares actual and predicted positives and negatives labeled as true or false"
   ]
  }
 ],
 "metadata": {
  "kernelspec": {
   "display_name": "Python 3 (ipykernel)",
   "language": "python",
   "name": "python3"
  },
  "language_info": {
   "codemirror_mode": {
    "name": "ipython",
    "version": 3
   },
   "file_extension": ".py",
   "mimetype": "text/x-python",
   "name": "python",
   "nbconvert_exporter": "python",
   "pygments_lexer": "ipython3",
   "version": "3.10.9"
  }
 },
 "nbformat": 4,
 "nbformat_minor": 5
}
