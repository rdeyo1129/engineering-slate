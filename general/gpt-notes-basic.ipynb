{
 "cells": [
  {
   "cell_type": "code",
   "execution_count": null,
   "id": "26551639",
   "metadata": {},
   "outputs": [],
   "source": [
    "open(file, r | w | a)"
   ]
  },
  {
   "cell_type": "code",
   "execution_count": 1,
   "id": "8c974f2a",
   "metadata": {},
   "outputs": [],
   "source": [
    "# further research on bitwise needed"
   ]
  },
  {
   "cell_type": "code",
   "execution_count": 2,
   "id": "ba3b14ad",
   "metadata": {},
   "outputs": [],
   "source": [
    "# lists - mutable\n",
    "# tuples - immutable, good for configurations, good for when you know it won't be modified and debugging"
   ]
  },
  {
   "cell_type": "code",
   "execution_count": 3,
   "id": "e7015586",
   "metadata": {},
   "outputs": [
    {
     "name": "stdout",
     "output_type": "stream",
     "text": [
      "Cannot divide by zero\n"
     ]
    }
   ],
   "source": [
    "# exception handling\n",
    "\n",
    "try:\n",
    "    x = 1 / 0\n",
    "except ZeroDivisionError:\n",
    "    print(\"Cannot divide by zero\")"
   ]
  },
  {
   "cell_type": "code",
   "execution_count": null,
   "id": "d7c50e8d",
   "metadata": {},
   "outputs": [],
   "source": [
    "# classes\n",
    "\n",
    "# __init__ reserved for behavior when new instance of class is made\n",
    "# self refers to created instance of class\n",
    "# formatted strings print(f\"test {var1} test {self.var2}\"\")"
   ]
  }
 ],
 "metadata": {
  "kernelspec": {
   "display_name": "Python 3 (ipykernel)",
   "language": "python",
   "name": "python3"
  },
  "language_info": {
   "codemirror_mode": {
    "name": "ipython",
    "version": 3
   },
   "file_extension": ".py",
   "mimetype": "text/x-python",
   "name": "python",
   "nbconvert_exporter": "python",
   "pygments_lexer": "ipython3",
   "version": "3.10.9"
  }
 },
 "nbformat": 4,
 "nbformat_minor": 5
}
