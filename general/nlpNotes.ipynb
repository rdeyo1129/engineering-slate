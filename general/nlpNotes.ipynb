{
 "cells": [
  {
   "cell_type": "code",
   "execution_count": null,
   "id": "1c3ec15e",
   "metadata": {},
   "outputs": [],
   "source": [
    "- MultinominalNB (`sklearn.naive_bayes`)\n",
    "    - Variant of Naive Bayes theorem\n",
    "        - [https://www.youtube.com/watch?v=HZGCoVF3YvM](https://www.youtube.com/watch?v=HZGCoVF3YvM)\n",
    "            - Evidence should not determine beliefs, but update them\n",
    "        - Describes the probability of an event occurring given some prior knowledge.\n",
    "        - In text classification, the algorithm calculates probability of a document belonging to a certain class\n",
    "- Bidirectional Encoder Representations from Transformers (BERT)\n",
    "    - Transformers:\n",
    "        - Deep neural networks that process sequential data. Attends to different parts of input to calculate contextual representations.\n",
    "    - Bidirectional pre-training:\n",
    "        - Processes sequence forward and backward.\n",
    "        - Allows for capture of dependencies between preceding and following words.\n",
    "    - Masked Language Modeling:\n",
    "        - Some input tokens are randomly masked and the model is trained to predict context of surrounding tokens.\n",
    "        - Model learns contextual representations this way that capture the meaning of the entire sentence.\n",
    "    - Next Sentence Prediction:\n",
    "        - Model is given pairs of sentences and then trained to predict if the second sentence comes after the first.\n",
    "        - Model learns relationships between two different sentences\n",
    "    - Fine-tuning:\n",
    "        - After pre-training, model can be tuned on NLP tasks such as:\n",
    "            - Sentiment analysis\n",
    "            - Question answering\n",
    "        - This happens by adding task-specific layers on top of the pre-trained model by training the entire model end-to-end on labeled data for the target task."
   ]
  }
 ],
 "metadata": {
  "kernelspec": {
   "display_name": "Python 3 (ipykernel)",
   "language": "python",
   "name": "python3"
  },
  "language_info": {
   "codemirror_mode": {
    "name": "ipython",
    "version": 3
   },
   "file_extension": ".py",
   "mimetype": "text/x-python",
   "name": "python",
   "nbconvert_exporter": "python",
   "pygments_lexer": "ipython3",
   "version": "3.10.9"
  }
 },
 "nbformat": 4,
 "nbformat_minor": 5
}
