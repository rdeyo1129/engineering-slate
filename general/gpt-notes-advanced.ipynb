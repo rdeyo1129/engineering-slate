{
 "cells": [
  {
   "cell_type": "code",
   "execution_count": 4,
   "id": "57f841c9",
   "metadata": {},
   "outputs": [
    {
     "name": "stdout",
     "output_type": "stream",
     "text": [
      "1\n",
      "2\n",
      "3\n",
      "4\n",
      "5\n",
      "6\n",
      "7\n",
      "8\n",
      "9\n",
      "10\n",
      "a\n",
      "b\n",
      "c\n",
      "d\n",
      "e\n",
      "f\n",
      "Done\n"
     ]
    }
   ],
   "source": [
    "# multithreading\n",
    "\n",
    "import threading\n",
    "\n",
    "def print_numbers():\n",
    "    for i in range(1, 11):\n",
    "        print(i)\n",
    "\n",
    "def print_letters():\n",
    "    for letter in ['a', 'b', 'c', 'd', 'e', 'f']:\n",
    "        print(letter)\n",
    "\n",
    "thread1 = threading.Thread(target=print_numbers)\n",
    "thread2 = threading.Thread(target=print_letters)\n",
    "\n",
    "thread1.start()\n",
    "thread2.start()\n",
    "\n",
    "thread1.join()\n",
    "thread2.join()\n",
    "\n",
    "print('Done')\n",
    "\n",
    "# Extra credit: synchronization and asyncio"
   ]
  },
  {
   "cell_type": "code",
   "execution_count": 6,
   "id": "1dec58c2",
   "metadata": {},
   "outputs": [],
   "source": [
    "# context manager\n",
    "\n",
    "class File:\n",
    "    def __init__(self, filename, mode):\n",
    "        self.filename = filename\n",
    "        self.mode = mode\n",
    "        \n",
    "    def __enter__(self):\n",
    "        self.file = open(self.filename, self.mode)\n",
    "        return self.file\n",
    "    \n",
    "    def __exit__(self, exc_type, exc_val, exc_tb):\n",
    "        self.file.close()\n",
    "        \n",
    "# example\n",
    "with File('example.txt', 'w') as f:\n",
    "    f.write('Hello there')"
   ]
  },
  {
   "cell_type": "code",
   "execution_count": 7,
   "id": "f41ae859",
   "metadata": {},
   "outputs": [
    {
     "name": "stdout",
     "output_type": "stream",
     "text": [
      "Creating class MyClass with bases () and attrs {'__module__': '__main__', '__qualname__': 'MyClass', 'x': 1}\n"
     ]
    }
   ],
   "source": [
    "# metaclasses\n",
    "# define behavior of classes like functions define behavior of \n",
    "# all classes are instances of metaclasses\n",
    "\n",
    "class MyMeta(type):\n",
    "    def __new__(cls, name, bases, attrs):\n",
    "        print(f\"Creating class {name} with bases {bases} and attrs {attrs}\")\n",
    "        return super().__new__(cls, name, bases, attrs)\n",
    "    \n",
    "class MyClass(metaclass=MyMeta):\n",
    "    x = 1"
   ]
  },
  {
   "cell_type": "code",
   "execution_count": null,
   "id": "8fb35451",
   "metadata": {},
   "outputs": [],
   "source": [
    "# Extra credit\n",
    "# data analysis: numpy, pandas, scipy\n",
    "# web development: flask, django\n",
    "# machine learning: tensorflow, pytorch, scikit-learn"
   ]
  }
 ],
 "metadata": {
  "kernelspec": {
   "display_name": "Python 3 (ipykernel)",
   "language": "python",
   "name": "python3"
  },
  "language_info": {
   "codemirror_mode": {
    "name": "ipython",
    "version": 3
   },
   "file_extension": ".py",
   "mimetype": "text/x-python",
   "name": "python",
   "nbconvert_exporter": "python",
   "pygments_lexer": "ipython3",
   "version": "3.10.9"
  }
 },
 "nbformat": 4,
 "nbformat_minor": 5
}
