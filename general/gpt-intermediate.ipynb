{
 "cells": [
  {
   "cell_type": "code",
   "execution_count": 12,
   "id": "f8c18808",
   "metadata": {},
   "outputs": [
    {
     "name": "stdout",
     "output_type": "stream",
     "text": [
      "Elapsed time: 1.01 seconds\n",
      "Calling add_numbers (3, 5)\n",
      "add_numbers return 8\n"
     ]
    }
   ],
   "source": [
    "# decorators\n",
    "# decorator takes another function as an input, performs operations, returns new function as output\n",
    "# used to modify behavior without changing source code\n",
    "\n",
    "# repr() is a string representation of an object (to JSON / stringify stuff)\n",
    "\n",
    "import time\n",
    "\n",
    "def timer(func):\n",
    "    def wrapper(*args, **kwargs):\n",
    "        start_time = time.time()\n",
    "        result = func(*args, **kwargs)\n",
    "        end_time = time.time()\n",
    "        print(f\"Elapsed time: {end_time - start_time:.2f} seconds\")\n",
    "        return result\n",
    "    return wrapper\n",
    "\n",
    "@timer\n",
    "def my_func():\n",
    "    time.sleep(1)\n",
    "    \n",
    "my_func()\n",
    "\n",
    "def logger(func):\n",
    "    def wrapper(*args, **kwargs):\n",
    "        arg_str = \", \".join(repr(arg) for arg in args)\n",
    "        kwarg_str = \", \".join(f\"{k}={repr(v)}\" for k, v in kwargs.items())\n",
    "        full_arg_str = \", \".join(filter(None, [arg_str, kwarg_str]))\n",
    "        print(\"Calling\", func.__name__, f\"({full_arg_str})\")\n",
    "        result = func(*args, **kwargs)\n",
    "        print(f\"{func.__name__} return {result}\")\n",
    "        return result\n",
    "    return wrapper\n",
    "\n",
    "@logger\n",
    "def add_numbers(a, b):\n",
    "    return a + b\n",
    "\n",
    "result = add_numbers(3, 5)"
   ]
  },
  {
   "cell_type": "code",
   "execution_count": 5,
   "id": "faabe15a",
   "metadata": {},
   "outputs": [
    {
     "name": "stdout",
     "output_type": "stream",
     "text": [
      "test\n",
      "333\n",
      "['hello', 'there']\n",
      "name: medavas\n",
      "age: 30\n",
      "city: Boston\n"
     ]
    }
   ],
   "source": [
    "# *args and **kwargs\n",
    "# *args is a packed in as a tuple\n",
    "\n",
    "def my_function(*args):\n",
    "    for arg in args:\n",
    "        print(arg)\n",
    "        \n",
    "my_function(\"test\", 333, [\"hello\", \"there\"])\n",
    "\n",
    "# **kwargs\n",
    "# used to pass variable number of \"keyword\" arguments, can be named what you want but use **\n",
    "# arguments passed in here are packed into a dictionary\n",
    "\n",
    "def function_dos(**kwargs):\n",
    "    for key, value in kwargs.items():\n",
    "        print(f\"{key}: {value}\")\n",
    "        \n",
    "function_dos(name=\"medavas\", age=30, city=\"Boston\")"
   ]
  },
  {
   "cell_type": "code",
   "execution_count": 6,
   "id": "d02c6a7c",
   "metadata": {},
   "outputs": [
    {
     "name": "stdout",
     "output_type": "stream",
     "text": [
      "[0, 1, 4, 9, 16, 25, 36, 49, 64, 81]\n"
     ]
    }
   ],
   "source": [
    "# list comprehensions\n",
    "\n",
    "squares = [x**2 for x in range(10)]\n",
    "print(squares)"
   ]
  },
  {
   "cell_type": "code",
   "execution_count": 8,
   "id": "de4bd6c0",
   "metadata": {},
   "outputs": [
    {
     "name": "stdout",
     "output_type": "stream",
     "text": [
      "36\n"
     ]
    }
   ],
   "source": [
    "# lambda functions\n",
    "# anonymous functions\n",
    "\n",
    "add = lambda x, y, z: x + y + z\n",
    "print(add(7, 9, 20))"
   ]
  },
  {
   "cell_type": "code",
   "execution_count": 9,
   "id": "cf52af74",
   "metadata": {},
   "outputs": [
    {
     "name": "stdout",
     "output_type": "stream",
     "text": [
      "[1, 4, 9, 25, 64, 169, 441, 1156]\n",
      "[2, 8, 34]\n"
     ]
    }
   ],
   "source": [
    "# map and filter\n",
    "# map/filter(operation, collection)\n",
    "\n",
    "numbers = [1, 2, 3, 5, 8, 13, 21, 34]\n",
    "squares = list(map(lambda x: x**2, numbers))\n",
    "evens = list(filter(lambda x: x % 2 == 0, numbers))\n",
    "\n",
    "print(squares)\n",
    "print(evens)"
   ]
  },
  {
   "cell_type": "code",
   "execution_count": 17,
   "id": "53e993a8",
   "metadata": {},
   "outputs": [
    {
     "name": "stdout",
     "output_type": "stream",
     "text": [
      "10\n",
      "['10', '120']\n"
     ]
    }
   ],
   "source": [
    "# regex\n",
    "\n",
    "import re\n",
    "\n",
    "# re.match(pat, str) tries to match starting from start of string\n",
    "# re.search(pat, str) searches for match at any point of string\n",
    "# re.findall(pat, str) finds non-overlapping occurences and returns as list\n",
    "# re.sub(pat, rep, str) replaces all occurences of pattern with rep\n",
    "\n",
    "pattern = r'\\d+'\n",
    "string = 'There are more than 10 to the 120 unique positions in chess'\n",
    "\n",
    "match = re.search(pattern, string)\n",
    "match2 = re.findall(pattern, string)\n",
    "if match:\n",
    "    print(match.group())\n",
    "if match2:\n",
    "    print(match2)"
   ]
  },
  {
   "cell_type": "code",
   "execution_count": 18,
   "id": "8b7662c8",
   "metadata": {},
   "outputs": [],
   "source": [
    "# advanced data structures\n",
    "\n",
    "from collections import Counter # counts number of ocurences in a list / tuple? and would be useful for mode\n",
    "\n",
    "from collections import deque # when you want to add or remove values from a list faster than a normal structure\n",
    "\n",
    "from collections import defaultdict # lets you provide default values for keys not already in a dictionary"
   ]
  },
  {
   "cell_type": "code",
   "execution_count": 19,
   "id": "58f53a56",
   "metadata": {},
   "outputs": [
    {
     "name": "stdout",
     "output_type": "stream",
     "text": [
      "0\n",
      "1\n",
      "1\n",
      "2\n",
      "3\n",
      "5\n",
      "8\n",
      "13\n",
      "21\n",
      "34\n"
     ]
    }
   ],
   "source": [
    "# Generators\n",
    "# like list and tuples but are lazy and let you produce values on the fly on request\n",
    "\n",
    "def fibonacci():\n",
    "    a, b = 0, 1\n",
    "    while True:\n",
    "        yield a\n",
    "        a, b = b, a + b\n",
    "    \n",
    "fib = fibonacci()\n",
    "for i in range(10):\n",
    "    print(next(fib))"
   ]
  },
  {
   "cell_type": "code",
   "execution_count": null,
   "id": "56466578",
   "metadata": {},
   "outputs": [],
   "source": []
  }
 ],
 "metadata": {
  "kernelspec": {
   "display_name": "Python 3 (ipykernel)",
   "language": "python",
   "name": "python3"
  },
  "language_info": {
   "codemirror_mode": {
    "name": "ipython",
    "version": 3
   },
   "file_extension": ".py",
   "mimetype": "text/x-python",
   "name": "python",
   "nbconvert_exporter": "python",
   "pygments_lexer": "ipython3",
   "version": "3.10.9"
  }
 },
 "nbformat": 4,
 "nbformat_minor": 5
}
