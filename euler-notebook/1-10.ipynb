{
 "cells": [
  {
   "cell_type": "code",
   "execution_count": 12,
   "id": "c7e27eb7",
   "metadata": {},
   "outputs": [
    {
     "name": "stdout",
     "output_type": "stream",
     "text": [
      "233168\n"
     ]
    }
   ],
   "source": [
    "# problem 1\n",
    "def reduceThreeFiveMultiples(ceiling):\n",
    "    sum = 0\n",
    "    count = 0\n",
    "        \n",
    "    while (count < ceiling):\n",
    "        if count % 3 == 0 or count % 5 == 0:\n",
    "            sum += count\n",
    "            count += 1\n",
    "        else:\n",
    "            count += 1\n",
    "    return sum\n",
    "            \n",
    "print(reduceThreeFiveMultiples(1000))"
   ]
  },
  {
   "cell_type": "code",
   "execution_count": 2,
   "id": "11fc4670",
   "metadata": {},
   "outputs": [
    {
     "name": "stdout",
     "output_type": "stream",
     "text": [
      "4613732\n"
     ]
    }
   ],
   "source": [
    "# problem 2\n",
    "def reduceEvenFibonacciUnderFourMillion():\n",
    "    sum = 0\n",
    "    fibArr = [1, 1]\n",
    "    \n",
    "    while fibArr[-1] < 4000000:\n",
    "        if fibArr[-1] % 2 == 0:\n",
    "            sum += fibArr[-1]\n",
    "            fibArr.append(fibArr[-2] + fibArr[-1])\n",
    "        else:\n",
    "            fibArr.append(fibArr[-2] + fibArr[-1])\n",
    "    return sum\n",
    "\n",
    "print(reduceEvenFibonacciUnderFourMillion())"
   ]
  },
  {
   "cell_type": "code",
   "execution_count": 3,
   "id": "3b56572b",
   "metadata": {},
   "outputs": [
    {
     "name": "stdout",
     "output_type": "stream",
     "text": [
      "6857\n"
     ]
    }
   ],
   "source": [
    "# problem 3\n",
    "def findLargestPrimeFactor(n):\n",
    "    i = 2\n",
    "    # stop at square root as the higher side of factors mirror from the quotient on the lower side of factors\n",
    "    while i * i <= n:\n",
    "        # returns false if perfectly divisible\n",
    "        if n % i:\n",
    "            i += 1\n",
    "        else:\n",
    "            n //= i\n",
    "    return n\n",
    "\n",
    "print(findLargestPrimeFactor(600851475143))"
   ]
  },
  {
   "cell_type": "code",
   "execution_count": 26,
   "id": "2097f177",
   "metadata": {},
   "outputs": [
    {
     "name": "stdout",
     "output_type": "stream",
     "text": [
      "906609\n"
     ]
    }
   ],
   "source": [
    "# problem 4\n",
    "# find largest palindrome from product of two 3-digit numbers\n",
    "def findPalOfProdOfTwo3Digits():\n",
    "    largestPal = 0\n",
    "    i = 999\n",
    "    while i >= 100:\n",
    "        j = 999\n",
    "        while j >= 100:\n",
    "            checkPal = str(i*j) == str(i*j)[::-1]\n",
    "            if checkPal and i*j > largestPal:\n",
    "                largestPal = i*j\n",
    "            else:\n",
    "                j -= 1 \n",
    "        i -= 1\n",
    "    return largestPal\n",
    "\n",
    "print(findPalOfProdOfTwo3Digits())"
   ]
  },
  {
   "cell_type": "code",
   "execution_count": null,
   "id": "710ee699",
   "metadata": {},
   "outputs": [],
   "source": [
    "# problem 5\n",
    "def smallestNumDivUpTo20():\n",
    "    # every integer greater than 1 can be uniquely factored into a product of prime numbers\n",
    "    num = 2*3*5*7*11*13*17*19\n",
    "    numFound = False\n",
    "    while not numFound:\n",
    "        for x in range(20, 1, -1):\n",
    "            if num % x != 0:\n",
    "                break\n",
    "            else:\n",
    "                if x == 1:\n",
    "                    numFound = True\n",
    "                else:\n",
    "                    continue\n",
    "        num += 232792560\n",
    "    return num - 232792560\n",
    "\n",
    "print(smallestNumDivUpTo20())"
   ]
  },
  {
   "cell_type": "code",
   "execution_count": 9,
   "id": "4ab7e6c1",
   "metadata": {},
   "outputs": [
    {
     "name": "stdout",
     "output_type": "stream",
     "text": [
      "25164150\n"
     ]
    }
   ],
   "source": [
    "# problem 6\n",
    "from functools import reduce\n",
    "def squareDifferences(x):\n",
    "    rangex = list(range(x))\n",
    "    additionOfSquares = reduce(lambda x, y: x + y ** 2, rangex)\n",
    "    squareOfAdditions = reduce(lambda x, y: x + y, rangex) ** 2\n",
    "    print(squareOfAdditions - additionOfSquares)\n",
    "\n",
    "# range is not inclusive\n",
    "squareDifferences(101)"
   ]
  },
  {
   "cell_type": "code",
   "execution_count": 1,
   "id": "88ff23d8",
   "metadata": {},
   "outputs": [
    {
     "ename": "ModuleNotFoundError",
     "evalue": "No module named 'sympy'",
     "output_type": "error",
     "traceback": [
      "\u001b[1;31m---------------------------------------------------------------------------\u001b[0m",
      "\u001b[1;31mModuleNotFoundError\u001b[0m                       Traceback (most recent call last)",
      "Cell \u001b[1;32mIn[1], line 2\u001b[0m\n\u001b[0;32m      1\u001b[0m \u001b[38;5;66;03m# problem 7\u001b[39;00m\n\u001b[1;32m----> 2\u001b[0m \u001b[38;5;28;01mfrom\u001b[39;00m \u001b[38;5;21;01msympy\u001b[39;00m \u001b[38;5;28;01mimport\u001b[39;00m prime\n\u001b[0;32m      3\u001b[0m \u001b[38;5;28;01mdef\u001b[39;00m \u001b[38;5;21mgenerate_primes\u001b[39m(limit):\n\u001b[0;32m      4\u001b[0m     primes \u001b[38;5;241m=\u001b[39m [\u001b[38;5;28;01mTrue\u001b[39;00m] \u001b[38;5;241m*\u001b[39m limit\n",
      "\u001b[1;31mModuleNotFoundError\u001b[0m: No module named 'sympy'"
     ]
    }
   ],
   "source": [
    "# problem 7\n",
    "from sympy import prime\n",
    "def generate_primes(limit):\n",
    "    primes = [True] * limit\n",
    "    primes[0] = False\n",
    "    primes[1] = False\n",
    "    for i in range(2, int(limit ** 0.5) + 1):\n",
    "            if primes[i]:\n",
    "                for j in range(i ** 2, limit, i):\n",
    "                    primes[j] = False\n",
    "    return [i for i in range(limit) if primes[i]]\n",
    "\n",
    "primes = generate_primes(150000)\n",
    "print(primes[10000])\n",
    "\n",
    "# need to debug install not working\n",
    "# python libraries get specific for problems like these sometimes\n",
    "print(f\"prime library: {primes[10000]}\")"
   ]
  },
  {
   "cell_type": "code",
   "execution_count": null,
   "id": "e34fe7b7",
   "metadata": {},
   "outputs": [],
   "source": []
  }
 ],
 "metadata": {
  "kernelspec": {
   "display_name": "Python 3 (ipykernel)",
   "language": "python",
   "name": "python3"
  },
  "language_info": {
   "codemirror_mode": {
    "name": "ipython",
    "version": 3
   },
   "file_extension": ".py",
   "mimetype": "text/x-python",
   "name": "python",
   "nbconvert_exporter": "python",
   "pygments_lexer": "ipython3",
   "version": "3.10.9"
  }
 },
 "nbformat": 4,
 "nbformat_minor": 5
}
