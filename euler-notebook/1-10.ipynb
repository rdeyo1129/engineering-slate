{
 "cells": [
  {
   "cell_type": "code",
   "execution_count": 12,
   "id": "c7e27eb7",
   "metadata": {},
   "outputs": [
    {
     "name": "stdout",
     "output_type": "stream",
     "text": [
      "233168\n"
     ]
    }
   ],
   "source": [
    "# problem 1\n",
    "def reduceThreeFiveMultiples(ceiling):\n",
    "    sum = 0\n",
    "    count = 0\n",
    "        \n",
    "    while (count < ceiling):\n",
    "        if count % 3 == 0 or count % 5 == 0:\n",
    "            sum += count\n",
    "            count += 1\n",
    "        else:\n",
    "            count += 1\n",
    "    return sum\n",
    "            \n",
    "print(reduceThreeFiveMultiples(1000))"
   ]
  },
  {
   "cell_type": "code",
   "execution_count": 2,
   "id": "11fc4670",
   "metadata": {},
   "outputs": [
    {
     "name": "stdout",
     "output_type": "stream",
     "text": [
      "4613732\n"
     ]
    }
   ],
   "source": [
    "# problem 2\n",
    "def reduceEvenFibonacciUnderFourMillion():\n",
    "    sum = 0\n",
    "    fibArr = [1, 1]\n",
    "    \n",
    "    while fibArr[-1] < 4000000:\n",
    "        if fibArr[-1] % 2 == 0:\n",
    "            sum += fibArr[-1]\n",
    "            fibArr.append(fibArr[-2] + fibArr[-1])\n",
    "        else:\n",
    "            fibArr.append(fibArr[-2] + fibArr[-1])\n",
    "    return sum\n",
    "\n",
    "print(reduceEvenFibonacciUnderFourMillion())"
   ]
  },
  {
   "cell_type": "code",
   "execution_count": 3,
   "id": "3b56572b",
   "metadata": {},
   "outputs": [
    {
     "name": "stdout",
     "output_type": "stream",
     "text": [
      "6857\n"
     ]
    }
   ],
   "source": [
    "# problem 3\n",
    "def findLargestPrimeFactor(n):\n",
    "    i = 2\n",
    "    # stop at square root as the higher side of factors mirror from the quotient on the lower side of factors\n",
    "    while i * i <= n:\n",
    "        # returns false if perfectly divisible\n",
    "        if n % i:\n",
    "            i += 1\n",
    "        else:\n",
    "            n //= i\n",
    "    return n\n",
    "\n",
    "print(findLargestPrimeFactor(600851475143))"
   ]
  },
  {
   "cell_type": "code",
   "execution_count": 26,
   "id": "2097f177",
   "metadata": {},
   "outputs": [
    {
     "name": "stdout",
     "output_type": "stream",
     "text": [
      "906609\n"
     ]
    }
   ],
   "source": [
    "# problem 4\n",
    "# find largest palindrome from product of two 3-digit numbers\n",
    "def findPalOfProdOfTwo3Digits():\n",
    "    largestPal = 0\n",
    "    i = 999\n",
    "    while i >= 100:\n",
    "        j = 999\n",
    "        while j >= 100:\n",
    "            checkPal = str(i*j) == str(i*j)[::-1]\n",
    "            if checkPal and i*j > largestPal:\n",
    "                largestPal = i*j\n",
    "            else:\n",
    "                j -= 1 \n",
    "        i -= 1\n",
    "    return largestPal\n",
    "\n",
    "print(findPalOfProdOfTwo3Digits())"
   ]
  },
  {
   "cell_type": "code",
   "execution_count": null,
   "id": "710ee699",
   "metadata": {},
   "outputs": [],
   "source": [
    "# problem 5\n",
    "def smallestNumDivUpTo20():\n",
    "    # every integer greater than 1 can be uniquely factored into a product of prime numbers\n",
    "    num = 2*3*5*7*11*13*17*19\n",
    "    numFound = False\n",
    "    while not numFound:\n",
    "        for x in range(20, 1, -1):\n",
    "            if num % x != 0:\n",
    "                break\n",
    "            else:\n",
    "                if x == 1:\n",
    "                    numFound = True\n",
    "                else:\n",
    "                    continue\n",
    "        num += 232792560\n",
    "    return num - 232792560\n",
    "\n",
    "print(smallestNumDivUpTo20())"
   ]
  },
  {
   "cell_type": "code",
   "execution_count": null,
   "id": "4ab7e6c1",
   "metadata": {},
   "outputs": [],
   "source": []
  },
  {
   "cell_type": "code",
   "execution_count": null,
   "id": "e34fe7b7",
   "metadata": {},
   "outputs": [],
   "source": []
  }
 ],
 "metadata": {
  "kernelspec": {
   "display_name": "Python 3 (ipykernel)",
   "language": "python",
   "name": "python3"
  },
  "language_info": {
   "codemirror_mode": {
    "name": "ipython",
    "version": 3
   },
   "file_extension": ".py",
   "mimetype": "text/x-python",
   "name": "python",
   "nbconvert_exporter": "python",
   "pygments_lexer": "ipython3",
   "version": "3.10.9"
  }
 },
 "nbformat": 4,
 "nbformat_minor": 5
}
